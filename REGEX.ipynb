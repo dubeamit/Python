{
 "cells": [
  {
   "cell_type": "markdown",
   "metadata": {},
   "source": [
    "#### Metacharacters:- characters that needs to be escaped\n",
    "## \\.\\[\\{\\(\\)\\\\^\\$\\|\\?\\*\\+"
   ]
  },
  {
   "cell_type": "markdown",
   "metadata": {},
   "source": [
    "#### \\. - Any character Except New Line\n",
    "#### \\\\d - Digit(0-9)\n",
    "#### \\\\D - Any character but not digits\n",
    "#### \\\\w - word character(a-z, A-Z, 0-9, _)\n",
    "#### \\\\W - Any character but not (a-z, A-Z,0-9,_)\n",
    "#### \\\\s - whitespace (space, tab , newline)\n",
    "#### \\\\S - Any character but not (space, tab, newline)\n",
    "\n",
    "### Anchors\n",
    "#### \\\\b - word boundary\n",
    "#### \\\\B - Not a word boundary\n",
    "#### \\^ - Beginning of a string\n",
    "#### $\\$$ - End of a string\n",
    "\n",
    "### :\n",
    "#### \\[\\] - Matches Characters in brackets (character set)\n",
    "#### \\[\\^ \\] - Matches character *NOT* in brackets\n",
    "#### \\| - Either or\n",
    "\n",
    "### Quantifiers:\n",
    "#### \\* - 0 or More\n",
    "#### \\+ - 1 or More\n",
    "#### \\? - 0 or one\n",
    "#### \\{3\\} - Exact Number\n",
    "#### \\{3,4\\} - Range of Numbers(min, max)\n"
   ]
  },
  {
   "cell_type": "code",
   "execution_count": 19,
   "metadata": {},
   "outputs": [
    {
     "name": "stdout",
     "output_type": "stream",
     "text": [
      "<_sre.SRE_Match object; span=(1, 4), match='abc'>\n"
     ]
    }
   ],
   "source": [
    "import re\n",
    "\n",
    "text_to_search='''\n",
    "abcdefghijklmnopqurtuvwxyz\n",
    "ABCDEFGHIJKLMNOPQRSTUVWXYZ\n",
    "1234567890\n",
    "\n",
    "Ha HaHa\n",
    "\n",
    "MetaCharacters (Need to be escaped):\n",
    ".[{()\\^$|?*+\n",
    "\n",
    "coreyms.com\n",
    "\n",
    "321-555-4321\n",
    "123.555.1234\n",
    "123*567*8765\n",
    "800-123-4567\n",
    "900-987-2345\n",
    "\n",
    "Mr. Schafer\n",
    "Mr Smith\n",
    "Ms Davis\n",
    "Mrs. Robinson\n",
    "Mr. T\n",
    "\n",
    "mat\n",
    "cat\n",
    "bat\n",
    "\n",
    "'''\n",
    "\n",
    "sentence = 'Start a sentence and then bring it to an end'\n",
    "\n",
    "pattern = re.compile(r'abc')\n",
    "matches = pattern.finditer(text_to_search)\n",
    "for match in matches:\n",
    "    print(match)"
   ]
  },
  {
   "cell_type": "code",
   "execution_count": 2,
   "metadata": {},
   "outputs": [
    {
     "name": "stdout",
     "output_type": "stream",
     "text": [
      "<_sre.SRE_Match object; span=(55, 56), match='1'>\n",
      "<_sre.SRE_Match object; span=(56, 57), match='2'>\n",
      "<_sre.SRE_Match object; span=(57, 58), match='3'>\n",
      "<_sre.SRE_Match object; span=(58, 59), match='4'>\n",
      "<_sre.SRE_Match object; span=(59, 60), match='5'>\n",
      "<_sre.SRE_Match object; span=(60, 61), match='6'>\n",
      "<_sre.SRE_Match object; span=(61, 62), match='7'>\n",
      "<_sre.SRE_Match object; span=(62, 63), match='8'>\n",
      "<_sre.SRE_Match object; span=(63, 64), match='9'>\n",
      "<_sre.SRE_Match object; span=(64, 65), match='0'>\n",
      "<_sre.SRE_Match object; span=(140, 141), match='3'>\n",
      "<_sre.SRE_Match object; span=(141, 142), match='2'>\n",
      "<_sre.SRE_Match object; span=(142, 143), match='1'>\n",
      "<_sre.SRE_Match object; span=(144, 145), match='5'>\n",
      "<_sre.SRE_Match object; span=(145, 146), match='5'>\n",
      "<_sre.SRE_Match object; span=(146, 147), match='5'>\n",
      "<_sre.SRE_Match object; span=(148, 149), match='4'>\n",
      "<_sre.SRE_Match object; span=(149, 150), match='3'>\n",
      "<_sre.SRE_Match object; span=(150, 151), match='2'>\n",
      "<_sre.SRE_Match object; span=(151, 152), match='1'>\n",
      "<_sre.SRE_Match object; span=(153, 154), match='1'>\n",
      "<_sre.SRE_Match object; span=(154, 155), match='2'>\n",
      "<_sre.SRE_Match object; span=(155, 156), match='3'>\n",
      "<_sre.SRE_Match object; span=(157, 158), match='5'>\n",
      "<_sre.SRE_Match object; span=(158, 159), match='5'>\n",
      "<_sre.SRE_Match object; span=(159, 160), match='5'>\n",
      "<_sre.SRE_Match object; span=(161, 162), match='1'>\n",
      "<_sre.SRE_Match object; span=(162, 163), match='2'>\n",
      "<_sre.SRE_Match object; span=(163, 164), match='3'>\n",
      "<_sre.SRE_Match object; span=(164, 165), match='4'>\n",
      "<_sre.SRE_Match object; span=(166, 167), match='1'>\n",
      "<_sre.SRE_Match object; span=(167, 168), match='2'>\n",
      "<_sre.SRE_Match object; span=(168, 169), match='3'>\n",
      "<_sre.SRE_Match object; span=(170, 171), match='5'>\n",
      "<_sre.SRE_Match object; span=(171, 172), match='6'>\n",
      "<_sre.SRE_Match object; span=(172, 173), match='7'>\n",
      "<_sre.SRE_Match object; span=(174, 175), match='8'>\n",
      "<_sre.SRE_Match object; span=(175, 176), match='7'>\n",
      "<_sre.SRE_Match object; span=(176, 177), match='6'>\n",
      "<_sre.SRE_Match object; span=(177, 178), match='5'>\n",
      "<_sre.SRE_Match object; span=(179, 180), match='8'>\n",
      "<_sre.SRE_Match object; span=(180, 181), match='0'>\n",
      "<_sre.SRE_Match object; span=(181, 182), match='0'>\n",
      "<_sre.SRE_Match object; span=(183, 184), match='1'>\n",
      "<_sre.SRE_Match object; span=(184, 185), match='2'>\n",
      "<_sre.SRE_Match object; span=(185, 186), match='3'>\n",
      "<_sre.SRE_Match object; span=(187, 188), match='4'>\n",
      "<_sre.SRE_Match object; span=(188, 189), match='5'>\n",
      "<_sre.SRE_Match object; span=(189, 190), match='6'>\n",
      "<_sre.SRE_Match object; span=(190, 191), match='7'>\n",
      "<_sre.SRE_Match object; span=(192, 193), match='9'>\n",
      "<_sre.SRE_Match object; span=(193, 194), match='0'>\n",
      "<_sre.SRE_Match object; span=(194, 195), match='0'>\n",
      "<_sre.SRE_Match object; span=(196, 197), match='9'>\n",
      "<_sre.SRE_Match object; span=(197, 198), match='8'>\n",
      "<_sre.SRE_Match object; span=(198, 199), match='7'>\n",
      "<_sre.SRE_Match object; span=(200, 201), match='2'>\n",
      "<_sre.SRE_Match object; span=(201, 202), match='3'>\n",
      "<_sre.SRE_Match object; span=(202, 203), match='4'>\n",
      "<_sre.SRE_Match object; span=(203, 204), match='5'>\n"
     ]
    }
   ],
   "source": [
    "pattern = re.compile(r'\\d') #match all digits\n",
    "matches = pattern.finditer(text_to_search)\n",
    "for match in matches:\n",
    "    print(match)"
   ]
  },
  {
   "cell_type": "code",
   "execution_count": 3,
   "metadata": {},
   "outputs": [
    {
     "name": "stdout",
     "output_type": "stream",
     "text": [
      "<_sre.SRE_Match object; span=(0, 1), match='\\n'>\n",
      "<_sre.SRE_Match object; span=(1, 2), match='a'>\n",
      "<_sre.SRE_Match object; span=(2, 3), match='b'>\n",
      "<_sre.SRE_Match object; span=(3, 4), match='c'>\n",
      "<_sre.SRE_Match object; span=(4, 5), match='d'>\n",
      "<_sre.SRE_Match object; span=(5, 6), match='e'>\n",
      "<_sre.SRE_Match object; span=(6, 7), match='f'>\n",
      "<_sre.SRE_Match object; span=(7, 8), match='g'>\n",
      "<_sre.SRE_Match object; span=(8, 9), match='h'>\n",
      "<_sre.SRE_Match object; span=(9, 10), match='i'>\n",
      "<_sre.SRE_Match object; span=(10, 11), match='j'>\n",
      "<_sre.SRE_Match object; span=(11, 12), match='k'>\n",
      "<_sre.SRE_Match object; span=(12, 13), match='l'>\n",
      "<_sre.SRE_Match object; span=(13, 14), match='m'>\n",
      "<_sre.SRE_Match object; span=(14, 15), match='n'>\n",
      "<_sre.SRE_Match object; span=(15, 16), match='o'>\n",
      "<_sre.SRE_Match object; span=(16, 17), match='p'>\n",
      "<_sre.SRE_Match object; span=(17, 18), match='q'>\n",
      "<_sre.SRE_Match object; span=(18, 19), match='u'>\n",
      "<_sre.SRE_Match object; span=(19, 20), match='r'>\n",
      "<_sre.SRE_Match object; span=(20, 21), match='t'>\n",
      "<_sre.SRE_Match object; span=(21, 22), match='u'>\n",
      "<_sre.SRE_Match object; span=(22, 23), match='v'>\n",
      "<_sre.SRE_Match object; span=(23, 24), match='w'>\n",
      "<_sre.SRE_Match object; span=(24, 25), match='x'>\n",
      "<_sre.SRE_Match object; span=(25, 26), match='y'>\n",
      "<_sre.SRE_Match object; span=(26, 27), match='z'>\n",
      "<_sre.SRE_Match object; span=(27, 28), match='\\n'>\n",
      "<_sre.SRE_Match object; span=(28, 29), match='A'>\n",
      "<_sre.SRE_Match object; span=(29, 30), match='B'>\n",
      "<_sre.SRE_Match object; span=(30, 31), match='C'>\n",
      "<_sre.SRE_Match object; span=(31, 32), match='D'>\n",
      "<_sre.SRE_Match object; span=(32, 33), match='E'>\n",
      "<_sre.SRE_Match object; span=(33, 34), match='F'>\n",
      "<_sre.SRE_Match object; span=(34, 35), match='G'>\n",
      "<_sre.SRE_Match object; span=(35, 36), match='H'>\n",
      "<_sre.SRE_Match object; span=(36, 37), match='I'>\n",
      "<_sre.SRE_Match object; span=(37, 38), match='J'>\n",
      "<_sre.SRE_Match object; span=(38, 39), match='K'>\n",
      "<_sre.SRE_Match object; span=(39, 40), match='L'>\n",
      "<_sre.SRE_Match object; span=(40, 41), match='M'>\n",
      "<_sre.SRE_Match object; span=(41, 42), match='N'>\n",
      "<_sre.SRE_Match object; span=(42, 43), match='O'>\n",
      "<_sre.SRE_Match object; span=(43, 44), match='P'>\n",
      "<_sre.SRE_Match object; span=(44, 45), match='Q'>\n",
      "<_sre.SRE_Match object; span=(45, 46), match='R'>\n",
      "<_sre.SRE_Match object; span=(46, 47), match='S'>\n",
      "<_sre.SRE_Match object; span=(47, 48), match='T'>\n",
      "<_sre.SRE_Match object; span=(48, 49), match='U'>\n",
      "<_sre.SRE_Match object; span=(49, 50), match='V'>\n",
      "<_sre.SRE_Match object; span=(50, 51), match='W'>\n",
      "<_sre.SRE_Match object; span=(51, 52), match='X'>\n",
      "<_sre.SRE_Match object; span=(52, 53), match='Y'>\n",
      "<_sre.SRE_Match object; span=(53, 54), match='Z'>\n",
      "<_sre.SRE_Match object; span=(54, 55), match='\\n'>\n",
      "<_sre.SRE_Match object; span=(65, 66), match='\\n'>\n",
      "<_sre.SRE_Match object; span=(66, 67), match='\\n'>\n",
      "<_sre.SRE_Match object; span=(67, 68), match='H'>\n",
      "<_sre.SRE_Match object; span=(68, 69), match='a'>\n",
      "<_sre.SRE_Match object; span=(69, 70), match=' '>\n",
      "<_sre.SRE_Match object; span=(70, 71), match='H'>\n",
      "<_sre.SRE_Match object; span=(71, 72), match='a'>\n",
      "<_sre.SRE_Match object; span=(72, 73), match='H'>\n",
      "<_sre.SRE_Match object; span=(73, 74), match='a'>\n",
      "<_sre.SRE_Match object; span=(74, 75), match='\\n'>\n",
      "<_sre.SRE_Match object; span=(75, 76), match='\\n'>\n",
      "<_sre.SRE_Match object; span=(76, 77), match='M'>\n",
      "<_sre.SRE_Match object; span=(77, 78), match='e'>\n",
      "<_sre.SRE_Match object; span=(78, 79), match='t'>\n",
      "<_sre.SRE_Match object; span=(79, 80), match='a'>\n",
      "<_sre.SRE_Match object; span=(80, 81), match='C'>\n",
      "<_sre.SRE_Match object; span=(81, 82), match='h'>\n",
      "<_sre.SRE_Match object; span=(82, 83), match='a'>\n",
      "<_sre.SRE_Match object; span=(83, 84), match='r'>\n",
      "<_sre.SRE_Match object; span=(84, 85), match='a'>\n",
      "<_sre.SRE_Match object; span=(85, 86), match='c'>\n",
      "<_sre.SRE_Match object; span=(86, 87), match='t'>\n",
      "<_sre.SRE_Match object; span=(87, 88), match='e'>\n",
      "<_sre.SRE_Match object; span=(88, 89), match='r'>\n",
      "<_sre.SRE_Match object; span=(89, 90), match='s'>\n",
      "<_sre.SRE_Match object; span=(90, 91), match=' '>\n",
      "<_sre.SRE_Match object; span=(91, 92), match='('>\n",
      "<_sre.SRE_Match object; span=(92, 93), match='N'>\n",
      "<_sre.SRE_Match object; span=(93, 94), match='e'>\n",
      "<_sre.SRE_Match object; span=(94, 95), match='e'>\n",
      "<_sre.SRE_Match object; span=(95, 96), match='d'>\n",
      "<_sre.SRE_Match object; span=(96, 97), match=' '>\n",
      "<_sre.SRE_Match object; span=(97, 98), match='t'>\n",
      "<_sre.SRE_Match object; span=(98, 99), match='o'>\n",
      "<_sre.SRE_Match object; span=(99, 100), match=' '>\n",
      "<_sre.SRE_Match object; span=(100, 101), match='b'>\n",
      "<_sre.SRE_Match object; span=(101, 102), match='e'>\n",
      "<_sre.SRE_Match object; span=(102, 103), match=' '>\n",
      "<_sre.SRE_Match object; span=(103, 104), match='e'>\n",
      "<_sre.SRE_Match object; span=(104, 105), match='s'>\n",
      "<_sre.SRE_Match object; span=(105, 106), match='c'>\n",
      "<_sre.SRE_Match object; span=(106, 107), match='a'>\n",
      "<_sre.SRE_Match object; span=(107, 108), match='p'>\n",
      "<_sre.SRE_Match object; span=(108, 109), match='e'>\n",
      "<_sre.SRE_Match object; span=(109, 110), match='d'>\n",
      "<_sre.SRE_Match object; span=(110, 111), match=')'>\n",
      "<_sre.SRE_Match object; span=(111, 112), match=':'>\n",
      "<_sre.SRE_Match object; span=(112, 113), match='\\n'>\n",
      "<_sre.SRE_Match object; span=(113, 114), match='.'>\n",
      "<_sre.SRE_Match object; span=(114, 115), match='['>\n",
      "<_sre.SRE_Match object; span=(115, 116), match='{'>\n",
      "<_sre.SRE_Match object; span=(116, 117), match='('>\n",
      "<_sre.SRE_Match object; span=(117, 118), match=')'>\n",
      "<_sre.SRE_Match object; span=(118, 119), match='\\\\'>\n",
      "<_sre.SRE_Match object; span=(119, 120), match='^'>\n",
      "<_sre.SRE_Match object; span=(120, 121), match='$'>\n",
      "<_sre.SRE_Match object; span=(121, 122), match='|'>\n",
      "<_sre.SRE_Match object; span=(122, 123), match='?'>\n",
      "<_sre.SRE_Match object; span=(123, 124), match='*'>\n",
      "<_sre.SRE_Match object; span=(124, 125), match='+'>\n",
      "<_sre.SRE_Match object; span=(125, 126), match='\\n'>\n",
      "<_sre.SRE_Match object; span=(126, 127), match='\\n'>\n",
      "<_sre.SRE_Match object; span=(127, 128), match='c'>\n",
      "<_sre.SRE_Match object; span=(128, 129), match='o'>\n",
      "<_sre.SRE_Match object; span=(129, 130), match='r'>\n",
      "<_sre.SRE_Match object; span=(130, 131), match='e'>\n",
      "<_sre.SRE_Match object; span=(131, 132), match='y'>\n",
      "<_sre.SRE_Match object; span=(132, 133), match='m'>\n",
      "<_sre.SRE_Match object; span=(133, 134), match='s'>\n",
      "<_sre.SRE_Match object; span=(134, 135), match='.'>\n",
      "<_sre.SRE_Match object; span=(135, 136), match='c'>\n",
      "<_sre.SRE_Match object; span=(136, 137), match='o'>\n",
      "<_sre.SRE_Match object; span=(137, 138), match='m'>\n",
      "<_sre.SRE_Match object; span=(138, 139), match='\\n'>\n",
      "<_sre.SRE_Match object; span=(139, 140), match='\\n'>\n",
      "<_sre.SRE_Match object; span=(143, 144), match='-'>\n",
      "<_sre.SRE_Match object; span=(147, 148), match='-'>\n",
      "<_sre.SRE_Match object; span=(152, 153), match='\\n'>\n",
      "<_sre.SRE_Match object; span=(156, 157), match='.'>\n",
      "<_sre.SRE_Match object; span=(160, 161), match='.'>\n",
      "<_sre.SRE_Match object; span=(165, 166), match='\\n'>\n",
      "<_sre.SRE_Match object; span=(169, 170), match='*'>\n",
      "<_sre.SRE_Match object; span=(173, 174), match='*'>\n",
      "<_sre.SRE_Match object; span=(178, 179), match='\\n'>\n",
      "<_sre.SRE_Match object; span=(182, 183), match='-'>\n",
      "<_sre.SRE_Match object; span=(186, 187), match='-'>\n",
      "<_sre.SRE_Match object; span=(191, 192), match='\\n'>\n",
      "<_sre.SRE_Match object; span=(195, 196), match='-'>\n",
      "<_sre.SRE_Match object; span=(199, 200), match='-'>\n",
      "<_sre.SRE_Match object; span=(204, 205), match='\\n'>\n",
      "<_sre.SRE_Match object; span=(205, 206), match='\\n'>\n",
      "<_sre.SRE_Match object; span=(206, 207), match='M'>\n",
      "<_sre.SRE_Match object; span=(207, 208), match='r'>\n",
      "<_sre.SRE_Match object; span=(208, 209), match='.'>\n",
      "<_sre.SRE_Match object; span=(209, 210), match=' '>\n",
      "<_sre.SRE_Match object; span=(210, 211), match='S'>\n",
      "<_sre.SRE_Match object; span=(211, 212), match='c'>\n",
      "<_sre.SRE_Match object; span=(212, 213), match='h'>\n",
      "<_sre.SRE_Match object; span=(213, 214), match='a'>\n",
      "<_sre.SRE_Match object; span=(214, 215), match='f'>\n",
      "<_sre.SRE_Match object; span=(215, 216), match='e'>\n",
      "<_sre.SRE_Match object; span=(216, 217), match='r'>\n",
      "<_sre.SRE_Match object; span=(217, 218), match='\\n'>\n",
      "<_sre.SRE_Match object; span=(218, 219), match='M'>\n",
      "<_sre.SRE_Match object; span=(219, 220), match='r'>\n",
      "<_sre.SRE_Match object; span=(220, 221), match=' '>\n",
      "<_sre.SRE_Match object; span=(221, 222), match='S'>\n",
      "<_sre.SRE_Match object; span=(222, 223), match='m'>\n",
      "<_sre.SRE_Match object; span=(223, 224), match='i'>\n",
      "<_sre.SRE_Match object; span=(224, 225), match='t'>\n",
      "<_sre.SRE_Match object; span=(225, 226), match='h'>\n",
      "<_sre.SRE_Match object; span=(226, 227), match='\\n'>\n",
      "<_sre.SRE_Match object; span=(227, 228), match='M'>\n",
      "<_sre.SRE_Match object; span=(228, 229), match='s'>\n",
      "<_sre.SRE_Match object; span=(229, 230), match=' '>\n",
      "<_sre.SRE_Match object; span=(230, 231), match='D'>\n",
      "<_sre.SRE_Match object; span=(231, 232), match='a'>\n",
      "<_sre.SRE_Match object; span=(232, 233), match='v'>\n",
      "<_sre.SRE_Match object; span=(233, 234), match='i'>\n",
      "<_sre.SRE_Match object; span=(234, 235), match='s'>\n",
      "<_sre.SRE_Match object; span=(235, 236), match='\\n'>\n",
      "<_sre.SRE_Match object; span=(236, 237), match='M'>\n",
      "<_sre.SRE_Match object; span=(237, 238), match='r'>\n",
      "<_sre.SRE_Match object; span=(238, 239), match='s'>\n",
      "<_sre.SRE_Match object; span=(239, 240), match='.'>\n",
      "<_sre.SRE_Match object; span=(240, 241), match=' '>\n",
      "<_sre.SRE_Match object; span=(241, 242), match='R'>\n",
      "<_sre.SRE_Match object; span=(242, 243), match='o'>\n",
      "<_sre.SRE_Match object; span=(243, 244), match='b'>\n",
      "<_sre.SRE_Match object; span=(244, 245), match='i'>\n",
      "<_sre.SRE_Match object; span=(245, 246), match='n'>\n",
      "<_sre.SRE_Match object; span=(246, 247), match='s'>\n",
      "<_sre.SRE_Match object; span=(247, 248), match='o'>\n",
      "<_sre.SRE_Match object; span=(248, 249), match='n'>\n",
      "<_sre.SRE_Match object; span=(249, 250), match='\\n'>\n",
      "<_sre.SRE_Match object; span=(250, 251), match='M'>\n",
      "<_sre.SRE_Match object; span=(251, 252), match='r'>\n",
      "<_sre.SRE_Match object; span=(252, 253), match='.'>\n",
      "<_sre.SRE_Match object; span=(253, 254), match=' '>\n",
      "<_sre.SRE_Match object; span=(254, 255), match='T'>\n",
      "<_sre.SRE_Match object; span=(255, 256), match='\\n'>\n"
     ]
    }
   ],
   "source": [
    "pattern = re.compile(r'\\D') # match any char but not digit\n",
    "matches = pattern.finditer(text_to_search)\n",
    "for match in matches:\n",
    "    print(match)"
   ]
  },
  {
   "cell_type": "code",
   "execution_count": 4,
   "metadata": {},
   "outputs": [
    {
     "name": "stdout",
     "output_type": "stream",
     "text": [
      "<_sre.SRE_Match object; span=(67, 69), match='Ha'>\n",
      "<_sre.SRE_Match object; span=(70, 72), match='Ha'>\n"
     ]
    }
   ],
   "source": [
    "# boundary regex\n",
    "pattern = re.compile(r'\\bHa')\n",
    "matches = pattern.finditer(text_to_search)\n",
    "for match in matches:\n",
    "    print(match)"
   ]
  },
  {
   "cell_type": "code",
   "execution_count": 5,
   "metadata": {},
   "outputs": [
    {
     "name": "stdout",
     "output_type": "stream",
     "text": [
      "<_sre.SRE_Match object; span=(72, 74), match='Ha'>\n"
     ]
    }
   ],
   "source": [
    "# non-boundary regex\n",
    "pattern = re.compile(r'\\BHa')\n",
    "matches = pattern.finditer(text_to_search)\n",
    "for match in matches:\n",
    "    print(match)"
   ]
  },
  {
   "cell_type": "code",
   "execution_count": 6,
   "metadata": {},
   "outputs": [
    {
     "name": "stdout",
     "output_type": "stream",
     "text": [
      "<_sre.SRE_Match object; span=(0, 5), match='Start'>\n"
     ]
    }
   ],
   "source": [
    "# beginning of string\n",
    "pattern = re.compile(r'^Start')\n",
    "matches = pattern.finditer(sentence)\n",
    "for match in matches:\n",
    "    print(match)"
   ]
  },
  {
   "cell_type": "code",
   "execution_count": 7,
   "metadata": {},
   "outputs": [
    {
     "name": "stdout",
     "output_type": "stream",
     "text": [
      "<_sre.SRE_Match object; span=(41, 44), match='end'>\n"
     ]
    }
   ],
   "source": [
    "# end of the string\n",
    "pattern = re.compile(r'end$')\n",
    "matches = pattern.finditer(sentence)\n",
    "for match in matches:\n",
    "    print(match)"
   ]
  },
  {
   "cell_type": "code",
   "execution_count": 8,
   "metadata": {},
   "outputs": [
    {
     "name": "stdout",
     "output_type": "stream",
     "text": [
      "<_sre.SRE_Match object; span=(140, 152), match='321-555-4321'>\n",
      "<_sre.SRE_Match object; span=(153, 165), match='123.555.1234'>\n",
      "<_sre.SRE_Match object; span=(166, 178), match='123*567*8765'>\n",
      "<_sre.SRE_Match object; span=(179, 191), match='800-123-4567'>\n",
      "<_sre.SRE_Match object; span=(192, 204), match='900-987-2345'>\n"
     ]
    }
   ],
   "source": [
    "# match certain digit\n",
    "pattern = re.compile(r'\\d{3}.\\d{3}.\\d{4}')\n",
    "matches = pattern.finditer(text_to_search)\n",
    "for match in matches:\n",
    "    print(match)"
   ]
  },
  {
   "cell_type": "code",
   "execution_count": 9,
   "metadata": {},
   "outputs": [
    {
     "data": {
      "text/plain": [
       "'/home/amit/my_doc/python'"
      ]
     },
     "execution_count": 9,
     "metadata": {},
     "output_type": "execute_result"
    }
   ],
   "source": [
    "pwd"
   ]
  },
  {
   "cell_type": "code",
   "execution_count": 10,
   "metadata": {},
   "outputs": [
    {
     "name": "stdout",
     "output_type": "stream",
     "text": [
      "<_sre.SRE_Match object; span=(12, 24), match='615-555-7164'>\n",
      "<_sre.SRE_Match object; span=(102, 114), match='800-555-5669'>\n",
      "<_sre.SRE_Match object; span=(191, 203), match='560-555-5153'>\n",
      "<_sre.SRE_Match object; span=(281, 293), match='900-555-9340'>\n",
      "<_sre.SRE_Match object; span=(378, 390), match='714-555-7405'>\n",
      "<_sre.SRE_Match object; span=(467, 479), match='800-555-6771'>\n",
      "<_sre.SRE_Match object; span=(557, 569), match='783-555-4799'>\n",
      "<_sre.SRE_Match object; span=(647, 659), match='516-555-4615'>\n",
      "<_sre.SRE_Match object; span=(740, 752), match='127-555-1867'>\n",
      "<_sre.SRE_Match object; span=(829, 841), match='608-555-4938'>\n",
      "<_sre.SRE_Match object; span=(915, 927), match='568-555-6051'>\n",
      "<_sre.SRE_Match object; span=(1003, 1015), match='292-555-1875'>\n",
      "<_sre.SRE_Match object; span=(1091, 1103), match='900-555-3205'>\n",
      "<_sre.SRE_Match object; span=(1180, 1192), match='614-555-1166'>\n",
      "<_sre.SRE_Match object; span=(1269, 1281), match='530-555-2676'>\n",
      "<_sre.SRE_Match object; span=(1355, 1367), match='470-555-2750'>\n",
      "<_sre.SRE_Match object; span=(1439, 1451), match='800-555-6089'>\n",
      "<_sre.SRE_Match object; span=(1526, 1538), match='880-555-8319'>\n",
      "<_sre.SRE_Match object; span=(1614, 1626), match='777-555-8378'>\n",
      "<_sre.SRE_Match object; span=(1697, 1709), match='998-555-7385'>\n",
      "<_sre.SRE_Match object; span=(1790, 1802), match='800-555-7100'>\n",
      "<_sre.SRE_Match object; span=(1874, 1886), match='903-555-8277'>\n",
      "<_sre.SRE_Match object; span=(1962, 1974), match='196-555-5674'>\n",
      "<_sre.SRE_Match object; span=(2051, 2063), match='900-555-5118'>\n",
      "<_sre.SRE_Match object; span=(2135, 2147), match='905-555-1630'>\n",
      "<_sre.SRE_Match object; span=(2216, 2228), match='203-555-3475'>\n",
      "<_sre.SRE_Match object; span=(2300, 2312), match='884-555-8444'>\n",
      "<_sre.SRE_Match object; span=(2387, 2399), match='904-555-8559'>\n",
      "<_sre.SRE_Match object; span=(2475, 2487), match='889-555-7393'>\n",
      "<_sre.SRE_Match object; span=(2562, 2574), match='195-555-2405'>\n",
      "<_sre.SRE_Match object; span=(2647, 2659), match='321-555-9053'>\n",
      "<_sre.SRE_Match object; span=(2734, 2746), match='133-555-1711'>\n",
      "<_sre.SRE_Match object; span=(2826, 2838), match='900-555-5428'>\n",
      "<_sre.SRE_Match object; span=(2915, 2927), match='760-555-7147'>\n",
      "<_sre.SRE_Match object; span=(3012, 3024), match='391-555-6621'>\n",
      "<_sre.SRE_Match object; span=(3103, 3115), match='932-555-7724'>\n",
      "<_sre.SRE_Match object; span=(3192, 3204), match='609-555-7908'>\n",
      "<_sre.SRE_Match object; span=(3284, 3296), match='800-555-8810'>\n",
      "<_sre.SRE_Match object; span=(3372, 3384), match='149-555-7657'>\n",
      "<_sre.SRE_Match object; span=(3452, 3464), match='130-555-9709'>\n",
      "<_sre.SRE_Match object; span=(3535, 3547), match='143-555-9295'>\n",
      "<_sre.SRE_Match object; span=(3624, 3636), match='903-555-9878'>\n",
      "<_sre.SRE_Match object; span=(3714, 3726), match='574-555-3194'>\n",
      "<_sre.SRE_Match object; span=(3802, 3814), match='496-555-7533'>\n",
      "<_sre.SRE_Match object; span=(3887, 3899), match='210-555-3757'>\n",
      "<_sre.SRE_Match object; span=(3971, 3983), match='900-555-9598'>\n",
      "<_sre.SRE_Match object; span=(4056, 4068), match='866-555-9844'>\n",
      "<_sre.SRE_Match object; span=(4140, 4152), match='669-555-7159'>\n",
      "<_sre.SRE_Match object; span=(4225, 4237), match='152-555-7417'>\n",
      "<_sre.SRE_Match object; span=(4317, 4329), match='893-555-9832'>\n",
      "<_sre.SRE_Match object; span=(4407, 4419), match='217-555-7123'>\n",
      "<_sre.SRE_Match object; span=(4498, 4510), match='786-555-6544'>\n",
      "<_sre.SRE_Match object; span=(4588, 4600), match='780-555-2574'>\n",
      "<_sre.SRE_Match object; span=(4676, 4688), match='926-555-8735'>\n",
      "<_sre.SRE_Match object; span=(4762, 4774), match='895-555-3539'>\n",
      "<_sre.SRE_Match object; span=(4859, 4871), match='874-555-3949'>\n",
      "<_sre.SRE_Match object; span=(4945, 4957), match='800-555-2420'>\n",
      "<_sre.SRE_Match object; span=(5034, 5046), match='936-555-6340'>\n",
      "<_sre.SRE_Match object; span=(5123, 5135), match='372-555-9809'>\n",
      "<_sre.SRE_Match object; span=(5210, 5222), match='890-555-5618'>\n",
      "<_sre.SRE_Match object; span=(5292, 5304), match='670-555-3005'>\n",
      "<_sre.SRE_Match object; span=(5382, 5394), match='509-555-5997'>\n",
      "<_sre.SRE_Match object; span=(5475, 5487), match='721-555-5632'>\n",
      "<_sre.SRE_Match object; span=(5566, 5578), match='900-555-3567'>\n",
      "<_sre.SRE_Match object; span=(5656, 5668), match='147-555-6830'>\n",
      "<_sre.SRE_Match object; span=(5745, 5757), match='582-555-3426'>\n",
      "<_sre.SRE_Match object; span=(5830, 5842), match='400-555-1706'>\n",
      "<_sre.SRE_Match object; span=(5921, 5933), match='525-555-1793'>\n",
      "<_sre.SRE_Match object; span=(6011, 6023), match='317-555-6700'>\n",
      "<_sre.SRE_Match object; span=(6099, 6111), match='974-555-8301'>\n",
      "<_sre.SRE_Match object; span=(6189, 6201), match='800-555-3216'>\n",
      "<_sre.SRE_Match object; span=(6273, 6285), match='746-555-4094'>\n",
      "<_sre.SRE_Match object; span=(6360, 6372), match='922-555-1773'>\n",
      "<_sre.SRE_Match object; span=(6445, 6457), match='711-555-4427'>\n",
      "<_sre.SRE_Match object; span=(6530, 6542), match='355-555-1872'>\n",
      "<_sre.SRE_Match object; span=(6619, 6631), match='852-555-6521'>\n",
      "<_sre.SRE_Match object; span=(6711, 6723), match='691-555-5773'>\n",
      "<_sre.SRE_Match object; span=(6803, 6815), match='332-555-5441'>\n",
      "<_sre.SRE_Match object; span=(6889, 6901), match='900-555-7755'>\n",
      "<_sre.SRE_Match object; span=(6971, 6983), match='379-555-3685'>\n",
      "<_sre.SRE_Match object; span=(7061, 7073), match='127-555-9682'>\n",
      "<_sre.SRE_Match object; span=(7152, 7164), match='789-555-7032'>\n",
      "<_sre.SRE_Match object; span=(7243, 7255), match='783-555-5135'>\n",
      "<_sre.SRE_Match object; span=(7336, 7348), match='315-555-6507'>\n",
      "<_sre.SRE_Match object; span=(7427, 7439), match='481-555-5835'>\n",
      "<_sre.SRE_Match object; span=(7515, 7527), match='365-555-8287'>\n",
      "<_sre.SRE_Match object; span=(7607, 7619), match='911-555-7535'>\n",
      "<_sre.SRE_Match object; span=(7693, 7705), match='681-555-2460'>\n",
      "<_sre.SRE_Match object; span=(7779, 7791), match='274-555-9800'>\n",
      "<_sre.SRE_Match object; span=(7864, 7876), match='800-555-1372'>\n",
      "<_sre.SRE_Match object; span=(7953, 7965), match='300-555-7821'>\n",
      "<_sre.SRE_Match object; span=(8043, 8055), match='133-555-3889'>\n",
      "<_sre.SRE_Match object; span=(8129, 8141), match='705-555-6863'>\n",
      "<_sre.SRE_Match object; span=(8218, 8230), match='215-555-9449'>\n",
      "<_sre.SRE_Match object; span=(8309, 8321), match='988-555-6112'>\n",
      "<_sre.SRE_Match object; span=(8395, 8407), match='623-555-3006'>\n",
      "<_sre.SRE_Match object; span=(8479, 8491), match='192-555-4977'>\n",
      "<_sre.SRE_Match object; span=(8564, 8576), match='178-555-4899'>\n",
      "<_sre.SRE_Match object; span=(8648, 8660), match='952-555-3089'>\n",
      "<_sre.SRE_Match object; span=(8741, 8753), match='900-555-6426'>\n"
     ]
    }
   ],
   "source": [
    "# extract all phone numbers\n",
    "pattern = re.compile(r'\\d{3}.\\d{3}.\\d{4}')\n",
    "with open('Regular-Expressions/data.txt','r') as f:\n",
    "    contents = f.read()\n",
    "    matches = pattern.finditer(contents)\n",
    "    for match in matches:\n",
    "        print(match)"
   ]
  },
  {
   "cell_type": "code",
   "execution_count": 11,
   "metadata": {},
   "outputs": [
    {
     "name": "stdout",
     "output_type": "stream",
     "text": [
      "<_sre.SRE_Match object; span=(140, 152), match='321-555-4321'>\n",
      "<_sre.SRE_Match object; span=(153, 165), match='123.555.1234'>\n",
      "<_sre.SRE_Match object; span=(179, 191), match='800-123-4567'>\n",
      "<_sre.SRE_Match object; span=(192, 204), match='900-987-2345'>\n"
     ]
    }
   ],
   "source": [
    "# matching phone num with sep having dash or dot\n",
    "pattern = re.compile(r'\\d{3}[-.]\\d{3}[-.]\\d{4}')\n",
    "matches = pattern.finditer(text_to_search)\n",
    "for match in matches:\n",
    "    print(match)"
   ]
  },
  {
   "cell_type": "code",
   "execution_count": 17,
   "metadata": {},
   "outputs": [
    {
     "name": "stdout",
     "output_type": "stream",
     "text": [
      "<_sre.SRE_Match object; span=(102, 114), match='800-555-5669'>\n",
      "<_sre.SRE_Match object; span=(281, 293), match='900-555-9340'>\n",
      "<_sre.SRE_Match object; span=(467, 479), match='800-555-6771'>\n",
      "<_sre.SRE_Match object; span=(1091, 1103), match='900-555-3205'>\n",
      "<_sre.SRE_Match object; span=(1439, 1451), match='800-555-6089'>\n",
      "<_sre.SRE_Match object; span=(1790, 1802), match='800-555-7100'>\n",
      "<_sre.SRE_Match object; span=(2051, 2063), match='900-555-5118'>\n",
      "<_sre.SRE_Match object; span=(2826, 2838), match='900-555-5428'>\n",
      "<_sre.SRE_Match object; span=(3284, 3296), match='800-555-8810'>\n",
      "<_sre.SRE_Match object; span=(3971, 3983), match='900-555-9598'>\n",
      "<_sre.SRE_Match object; span=(4945, 4957), match='800-555-2420'>\n",
      "<_sre.SRE_Match object; span=(5566, 5578), match='900-555-3567'>\n",
      "<_sre.SRE_Match object; span=(6189, 6201), match='800-555-3216'>\n",
      "<_sre.SRE_Match object; span=(6889, 6901), match='900-555-7755'>\n",
      "<_sre.SRE_Match object; span=(7864, 7876), match='800-555-1372'>\n",
      "<_sre.SRE_Match object; span=(8741, 8753), match='900-555-6426'>\n"
     ]
    }
   ],
   "source": [
    "# extracting phno only when it starts with certain digits\n",
    "pattern = re.compile(r'[89]00[-.]\\d{3}[-.]\\d{4}')\n",
    "with open('Regular-Expressions/data.txt','r') as f:\n",
    "    contents = f.read()\n",
    "    matches = pattern.finditer(contents)\n",
    "    for match in matches:\n",
    "        print(match)"
   ]
  },
  {
   "cell_type": "code",
   "execution_count": 21,
   "metadata": {},
   "outputs": [
    {
     "name": "stdout",
     "output_type": "stream",
     "text": [
      "<_sre.SRE_Match object; span=(257, 260), match='mat'>\n",
      "<_sre.SRE_Match object; span=(261, 264), match='cat'>\n"
     ]
    }
   ],
   "source": [
    "# not matching certain characters\n",
    "pattern = re.compile(r'[^b]at')\n",
    "matches = pattern.finditer(text_to_search)\n",
    "for match in matches:\n",
    "    print(match)"
   ]
  },
  {
   "cell_type": "code",
   "execution_count": 24,
   "metadata": {},
   "outputs": [
    {
     "name": "stdout",
     "output_type": "stream",
     "text": [
      "<_sre.SRE_Match object; span=(206, 217), match='Mr. Schafer'>\n",
      "<_sre.SRE_Match object; span=(218, 226), match='Mr Smith'>\n",
      "<_sre.SRE_Match object; span=(227, 235), match='Ms Davis'>\n",
      "<_sre.SRE_Match object; span=(236, 249), match='Mrs. Robinson'>\n",
      "<_sre.SRE_Match object; span=(250, 255), match='Mr. T'>\n"
     ]
    }
   ],
   "source": [
    "# using groups-->() matching below words\n",
    "# Mr. Schafer\n",
    "# Mr Smith\n",
    "# Ms Davis\n",
    "# Mrs. Robinson\n",
    "# Mr. T\n",
    "\n",
    "pattern = re.compile(r'M(r|s|rs)\\.?\\s[A-Z]\\w*')\n",
    "matches = pattern.finditer(text_to_search)\n",
    "for match in matches:\n",
    "    print(match)"
   ]
  },
  {
   "cell_type": "code",
   "execution_count": null,
   "metadata": {},
   "outputs": [],
   "source": []
  },
  {
   "cell_type": "markdown",
   "metadata": {},
   "source": [
    "## Extracting emails"
   ]
  },
  {
   "cell_type": "code",
   "execution_count": 39,
   "metadata": {},
   "outputs": [
    {
     "name": "stdout",
     "output_type": "stream",
     "text": [
      "<_sre.SRE_Match object; span=(1, 24), match='CoreyMSchafer@gmail.com'>\n",
      "<_sre.SRE_Match object; span=(25, 53), match='corey.schafer@university.edu'>\n",
      "<_sre.SRE_Match object; span=(54, 83), match='corey-321-schafer@my-work.net'>\n",
      "<_sre.SRE_Match object; span=(84, 112), match='corey-321-schafer@my-work.in'>\n"
     ]
    }
   ],
   "source": [
    "import re\n",
    "emails = '''\n",
    "CoreyMSchafer@gmail.com\n",
    "corey.schafer@university.edu\n",
    "corey-321-schafer@my-work.net\n",
    "corey-321-schafer@my-work.in\n",
    "'''\n",
    "\n",
    "pattern = re.compile(r'[A-Za-z0-9.-]+@[A-Za-z.-]+\\.[A-Za-z]+')\n",
    "matches = pattern.finditer(emails)\n",
    "for match in matches:\n",
    "    print(match)"
   ]
  },
  {
   "cell_type": "code",
   "execution_count": null,
   "metadata": {},
   "outputs": [],
   "source": []
  },
  {
   "cell_type": "code",
   "execution_count": null,
   "metadata": {},
   "outputs": [],
   "source": []
  },
  {
   "cell_type": "markdown",
   "metadata": {},
   "source": [
    "## Extracting URLs"
   ]
  },
  {
   "cell_type": "code",
   "execution_count": 47,
   "metadata": {},
   "outputs": [
    {
     "name": "stdout",
     "output_type": "stream",
     "text": [
      "<_sre.SRE_Match object; span=(1, 23), match='https://www.google.com'>\n",
      "<_sre.SRE_Match object; span=(24, 42), match='http://coreyms.com'>\n",
      "<_sre.SRE_Match object; span=(43, 62), match='https://youtube.com'>\n",
      "<_sre.SRE_Match object; span=(63, 83), match='https://www.nasa.gov'>\n",
      "replacing the entire urls with desire output\n",
      "\n",
      "Subbed_URLs \n",
      "google.com\n",
      "coreyms.com\n",
      "youtube.com\n",
      "nasa.gov\n",
      "\n"
     ]
    }
   ],
   "source": [
    "# from www.google.com extracting only google.com\n",
    "\n",
    "import re\n",
    "\n",
    "urls = '''\n",
    "https://www.google.com\n",
    "http://coreyms.com\n",
    "https://youtube.com\n",
    "https://www.nasa.gov\n",
    "'''\n",
    "\n",
    "# each parenthesis pair indicates a group like grp1 grp2 and grp3\n",
    "pattern = re.compile(r'https?://(www.)?([A-Za-z]+)(\\.[a-z]+)')\n",
    "matches = pattern.finditer(urls)\n",
    "for match in matches:\n",
    "    print(match)\n",
    "\n",
    "print('replacing the entire urls with desire output')\n",
    "subbed_urls = pattern.sub(r'\\2\\3',urls) # \\2-->grp2, \\3-->grp3\n",
    "print('\\nSubbed_URLs',subbed_urls)"
   ]
  },
  {
   "cell_type": "code",
   "execution_count": null,
   "metadata": {},
   "outputs": [],
   "source": []
  },
  {
   "cell_type": "markdown",
   "metadata": {},
   "source": [
    "### other methods of re"
   ]
  },
  {
   "cell_type": "code",
   "execution_count": 54,
   "metadata": {},
   "outputs": [
    {
     "name": "stdout",
     "output_type": "stream",
     "text": [
      "<class 'list'>\n",
      "('www.', 'google', '.com')\n",
      "('', 'coreyms', '.com')\n",
      "('', 'youtube', '.com')\n",
      "('www.', 'nasa', '.gov')\n"
     ]
    }
   ],
   "source": [
    "import re\n",
    "\n",
    "urls = '''\n",
    "https://www.google.com\n",
    "http://coreyms.com\n",
    "https://youtube.com\n",
    "https://www.nasa.gov\n",
    "'''\n",
    "\n",
    "pattern = re.compile(r'https?://(www.)?(\\w+)(\\.\\w+)')\n",
    "#will return only grps if grp present in pattern else the pattern\n",
    "matches = pattern.findall(urls) \n",
    "print(type(matches))\n",
    "for match in matches:\n",
    "    print(match)"
   ]
  },
  {
   "cell_type": "code",
   "execution_count": 57,
   "metadata": {},
   "outputs": [
    {
     "name": "stdout",
     "output_type": "stream",
     "text": [
      "<class '_sre.SRE_Match'>\n",
      "<_sre.SRE_Match object; span=(0, 5), match='Start'>\n"
     ]
    }
   ],
   "source": [
    "pattern = re.compile(r'Start')\n",
    "matches = pattern.match(sentence)\n",
    "print(type(matches)) # doesn't return iterable, only first match\n",
    "print(matches) "
   ]
  },
  {
   "cell_type": "code",
   "execution_count": 58,
   "metadata": {},
   "outputs": [
    {
     "name": "stdout",
     "output_type": "stream",
     "text": [
      "<_sre.SRE_Match object; span=(8, 16), match='sentence'>\n"
     ]
    }
   ],
   "source": [
    "# use search to find a particular pattern anywhere in the string\n",
    "# returns the first occurence of the pattern\n",
    "s = re.search(r'sentence',sentence,re.I) # re.I--> ignore case--> flag\n",
    "print(s)"
   ]
  },
  {
   "cell_type": "code",
   "execution_count": null,
   "metadata": {},
   "outputs": [],
   "source": []
  }
 ],
 "metadata": {
  "kernelspec": {
   "display_name": "Python 3",
   "language": "python",
   "name": "python3"
  },
  "language_info": {
   "codemirror_mode": {
    "name": "ipython",
    "version": 3
   },
   "file_extension": ".py",
   "mimetype": "text/x-python",
   "name": "python",
   "nbconvert_exporter": "python",
   "pygments_lexer": "ipython3",
   "version": "3.5.2"
  }
 },
 "nbformat": 4,
 "nbformat_minor": 2
}
